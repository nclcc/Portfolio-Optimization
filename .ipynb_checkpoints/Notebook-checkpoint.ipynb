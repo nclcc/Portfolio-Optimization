{
 "cells": [
  {
   "cell_type": "markdown",
   "id": "2aa0e8fa-f56d-49d5-8934-e7fc1722d1fd",
   "metadata": {},
   "source": [
    "***NOTEBOOK for financial applications"
   ]
  },
  {
   "cell_type": "markdown",
   "id": "5ea7c451-873c-4d04-9fc0-0bc981bcd854",
   "metadata": {},
   "source": [
    "# Import packages you like the most on top of the class for PortofolioOptimization"
   ]
  },
  {
   "cell_type": "code",
   "execution_count": null,
   "id": "c04a7fb0-e87f-4c20-8606-d59d343b08ea",
   "metadata": {},
   "outputs": [],
   "source": [
    "from Maximization import PortfolioOptimization, PairTrading"
   ]
  },
  {
   "cell_type": "markdown",
   "id": "1762f9b0-8c4e-4b57-b4c8-b68046630bd2",
   "metadata": {},
   "source": [
    "# Run the Portfolio Analysis by setting:\n",
    "# 1. At least two stock symbols and date range in yy-mm-dd format\n",
    "# 2. A boolean 'allow_for_shorting' is set to default to 'False'.\n",
    "# 3. A value 'tc' between 0 and 1, as a fixed share of returns. It is set to default to 0.01."
   ]
  },
  {
   "cell_type": "code",
   "execution_count": null,
   "id": "5829fed9-df84-438f-ab8b-03600f91f657",
   "metadata": {},
   "outputs": [],
   "source": [
    "OptimizedPortfolio = PortfolioOptimization(ETF_list, ['2022-05-01', '2022-05-31'])"
   ]
  },
  {
   "cell_type": "markdown",
   "id": "cebdc84e-a146-4397-9a1b-a669c59d7a2a",
   "metadata": {},
   "source": [
    "# Extract the optimizing weights"
   ]
  },
  {
   "cell_type": "code",
   "execution_count": null,
   "id": "5712a1ab-bc05-425b-aafb-93a43f7844a4",
   "metadata": {},
   "outputs": [],
   "source": [
    "q_1 = OptimizedPortfolio.FinalWeights"
   ]
  },
  {
   "cell_type": "markdown",
   "id": "9d420c72-ee0b-4c1c-90ab-810ac4267d2f",
   "metadata": {},
   "source": [
    "# NOTE: After running the file, specify the initial capital with plain ciphers\n",
    "# - neither commas nor other special characters."
   ]
  },
  {
   "cell_type": "markdown",
   "id": "f04c5151-5c08-45bb-b49a-1dbdf8fbb474",
   "metadata": {},
   "source": [
    "# To rebalance the portfolio, run again the Portfolio optimization at t=2,\n",
    "# Activate the rebalance mode by setting:\n",
    "# 1. The boolean \"rebalance\" to True. The default is False.\n",
    "# 2. The \"rebalance_capital\" equal to the capital of the previous optimization\n",
    "# 3. The \"rebalance_weights\" equal to the weights of the previous optimization"
   ]
  },
  {
   "cell_type": "code",
   "execution_count": null,
   "id": "1b1d34e5-7aba-40a1-82c0-7737b5b19c2d",
   "metadata": {},
   "outputs": [],
   "source": [
    "OptimizedPortfolio = PortfolioOptimization(ETF_list, ['2022-06-01', '2022-06-30'],\n",
    "                                           rebalance=True, rebalance_capital=OptimizedPortfolio.capital,\n",
    "                                           rebalance_weights=OptimizedPortfolio.FinalWeights)"
   ]
  },
  {
   "cell_type": "markdown",
   "id": "0308d0e6-8538-4b58-b5fe-241cd05d5105",
   "metadata": {},
   "source": [
    "# Pair trading - strategy"
   ]
  },
  {
   "cell_type": "code",
   "execution_count": null,
   "id": "d0495d8c-a5a3-469f-8313-e3fe467d2414",
   "metadata": {},
   "outputs": [],
   "source": [
    "PairTrading = PairTrading(ETF_list, ['2021-01-01', '2022-06-30'], m=1.75, significance=0.01)"
   ]
  }
 ],
 "metadata": {
  "kernelspec": {
   "display_name": "Python 3 (ipykernel)",
   "language": "python",
   "name": "python3"
  },
  "language_info": {
   "codemirror_mode": {
    "name": "ipython",
    "version": 3
   },
   "file_extension": ".py",
   "mimetype": "text/x-python",
   "name": "python",
   "nbconvert_exporter": "python",
   "pygments_lexer": "ipython3",
   "version": "3.9.12"
  }
 },
 "nbformat": 4,
 "nbformat_minor": 5
}
